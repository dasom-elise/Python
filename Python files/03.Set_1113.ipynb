{
 "cells": [
  {
   "cell_type": "markdown",
   "metadata": {},
   "source": [
    "# Python\n",
    "## 1. 환경설정\n",
    "###  -Pycharm IDE를 이용해서개발\n",
    "* 여러명이 같은파일 같은 프로젝트를 공유하면서 개발할 때 유리\n",
    "* interactive한 개발이 힘듦\n",
    "* 데이터분석작업보다는 Web개발이나 다른 application작성\n",
    "###  -Jupyter Notebook\n",
    "* Interactive한 개발이 가능해서 데이터 분석에 대한 학습이나 실제 분석작업을 많이해요!\n",
    "* 여러명이 공동 작업을 할 때는 불편!!\n",
    "## 2. Jupyter notebook \n",
    "### - cell  생성, cell 안의 코드 실행방법\n",
    "### - cell 삭제\n",
    "### - 기본적인 too사용법\n",
    "### - 무한루프가 실행되면 interrupt \n",
    "## 3. Python Built-in types\n",
    "### - numeint, float, complex)\n",
    "### - Text Sequence Type(str) => 약간 길게 설명\n",
    "### - Sesquene Typle( list, tumbler, range )\n",
    "### - Mapping (dict)\n",
    "### - Bool Type(bool)\n",
    "\n",
    "* and,or, not:논리연산자  \n",
    "* 파이썬에서 숫자 0은 FALSE, 0이 아닌 모든 숫자는 True = 1"
   ]
  },
  {
   "cell_type": "code",
   "execution_count": null,
   "metadata": {},
   "outputs": [],
   "source": [
    "## 3. python built-in types\n",
    "\n",
    "##    - Numeric Type ( int,float,complex )\n",
    "\n",
    "##    - Text Sequence Type ( str ) => 약간 길게 설명\n",
    "\n",
    "##    - Sequence Type ( list, tuple, range )\n",
    "\n",
    "##    - Mapping Type: key와 value로 이루어진 데이터 타입 ( dict )\n",
    "\n",
    "##    - Bool Type ( bool ) : True, False를 사용해요\n",
    "\n",
    "##    - and : 논리연산자, or : 논리연산자\n",
    "\n",
    "result = True and False #R에서의 &와 같은 역할\n",
    "\n",
    "print(result) #False\n",
    "\n",
    "result = True or False #R에서의 |와 같은 역할\n",
    "\n",
    "print(result) #True\n",
    "\n",
    "result = not True\n",
    "\n",
    "print(result) #False\n",
    "\n",
    "##    - &, | : 비교연산자, bitwise연산 \n",
    "\n",
    "##    python에서 숫자 0은 False로 간주, 0이 아닌 모든 숫자는 True\n",
    "\n",
    "print(bool(0)) #False\n",
    "\n",
    "print(bool(1));print(bool(100)) #True\n",
    "\n",
    "##    python에서 False는 숫자 0으로 변환, True는 숫자 1로 변환\n",
    "\n",
    "print(int(False)) #0\n",
    "\n",
    "print(int(True)) #1\n",
    "\n",
    "##    10진수 5를 2진수 => 0101\n",
    "\n",
    "##    10진수 1을 2진수 => 000`\n",
    "\n",
    "##    True & False => 1 & 0 => 0001 & 0000 => 각자리를 &연산(둘다1이여야 1) 0000 => 0 => False\n",
    "\n",
    "result = True & False \n",
    "\n",
    "print(result) #False\n",
    "\n",
    "##    python은 다음의 경우를 False로 간주\n",
    "\n",
    "##    숫자 0, 빈 문자열(\"\"), 빈 리스트([]), 빈 튜플(()), 빈 dict ({}), None(값이 없다)\n",
    "\n",
    "print(bool(\"\")) #False\n",
    "\n",
    "print(bool(\"소리없는 아우성\")) #True (비어있지 않은 문자열은 True)\n",
    "\n",
    "print(bool([1])) #True (리스트안에 뭐라도 들어있으면 True)\n",
    "\n",
    "print(bool((1,2))) #True \n",
    "\n",
    "print(bool(None)) #False\n",
    "\n",
    " \n",
    "\n",
    "##    2019-11-13 python의 남은 built-in type\n",
    "\n",
    "##    set type (set)\n",
    "\n",
    "##    어떻게 생겼나요?? => {}\n",
    "\n",
    "##    {} : 기본적으로 dict. dict는 {} 안에 key와 value로 구성\n",
    "\n",
    "##    set는 {} 안에 요소만 들어가요\n",
    "\n",
    "a = {\"name\":\"홍길동\", \"age\":20} #dict\n",
    "\n",
    "a = {1,2,3} # dict 표현인데 key가 없어요! =>set\n",
    "\n",
    "a = set()\n",
    "\n",
    "##    set이라는 자료구조는 기본적으로 순서가 없어요. 중복을 허용하지 않는 저장장소"
   ]
  },
  {
   "cell_type": "markdown",
   "metadata": {},
   "source": [
    "### 2019-11-13 python의 남은 built in type\n",
    "\n",
    "# set\n",
    "## 어떻게 생겼나요? => {}\n",
    "## {} 기본적으로 dict, 안에 key와 value로 구성\n",
    "## set()은 {}안에 요소만 들어감.key가 없음\n",
    "## a = {\"Seoul\",\"Paris\",\"LA\"} \n",
    "* 순서가 없음\n",
    "* 중복을 허용하지 않음\n",
    "* a = set()\n",
    "* a = set([1,2,3,4,5])"
   ]
  },
  {
   "cell_type": "code",
   "execution_count": 12,
   "metadata": {},
   "outputs": [
    {
     "data": {
      "text/plain": [
       "{1, 2, 3, 4, 5, 6, 7, 8, 9}"
      ]
     },
     "execution_count": 12,
     "metadata": {},
     "output_type": "execute_result"
    }
   ],
   "source": [
    "a = set([1,2,3,4,5,6,6,7,8,9])\n",
    "a # set에 들어가면 중복을 배제한 나머지가 출력이 됨!"
   ]
  },
  {
   "cell_type": "code",
   "execution_count": 1,
   "metadata": {},
   "outputs": [
    {
     "data": {
      "text/plain": [
       "set"
      ]
     },
     "execution_count": 1,
     "metadata": {},
     "output_type": "execute_result"
    }
   ],
   "source": [
    "a = set(\"Hello\")\n",
    "a\n",
    "type(a)"
   ]
  },
  {
   "cell_type": "code",
   "execution_count": 1,
   "metadata": {},
   "outputs": [
    {
     "name": "stdout",
     "output_type": "stream",
     "text": [
      "{1, 2, 3, 4}\n"
     ]
    }
   ],
   "source": [
    "# set의 연산\n",
    "a = {1,2,3,4}\n",
    "print(a)"
   ]
  },
  {
   "cell_type": "code",
   "execution_count": 26,
   "metadata": {},
   "outputs": [
    {
     "data": {
      "text/plain": [
       "{2, 3, 4, 5, 7, 10, 11, 12}"
      ]
     },
     "execution_count": 26,
     "metadata": {},
     "output_type": "execute_result"
    }
   ],
   "source": [
    "# set => 집합 ( 집합연산, 교집합, 합집합, 차집함 )\n",
    "a = {1,2,3,4} #set의 literal\n",
    "b = {3,4,5,6}\n",
    "\n",
    "a&b # set에 적용하면 &는 교집합이 됨\n",
    "a.intersection(b) \n",
    "\n",
    "a|b # set에 적용하면 union 합집합\n",
    "a.union(b)\n",
    "\n",
    "a-b # 차집함\n",
    "a.difference(b)\n",
    "\n",
    "\n",
    "mySet = {1,2,3,4,5}\n",
    "mySet.add(7) # add() set에 원하는 요소 1개 추가\n",
    "mySet.update([10,11,12]) # update( ) set에 여러개 추가\n",
    "mySet.remove(1) # 원하는 숫자 삭제\n",
    "mySet"
   ]
  },
  {
   "cell_type": "code",
   "execution_count": null,
   "metadata": {},
   "outputs": [],
   "source": []
  },
  {
   "cell_type": "code",
   "execution_count": null,
   "metadata": {},
   "outputs": [],
   "source": []
  }
 ],
 "metadata": {
  "kernelspec": {
   "display_name": "[CPU_ENV]",
   "language": "python",
   "name": "cpu_env"
  },
  "language_info": {
   "codemirror_mode": {
    "name": "ipython",
    "version": 3
   },
   "file_extension": ".py",
   "mimetype": "text/x-python",
   "name": "python",
   "nbconvert_exporter": "python",
   "pygments_lexer": "ipython3",
   "version": "3.6.9"
  }
 },
 "nbformat": 4,
 "nbformat_minor": 2
}
