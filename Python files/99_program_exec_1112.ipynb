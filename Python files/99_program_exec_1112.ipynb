{
 "cells": [
  {
   "cell_type": "markdown",
   "metadata": {},
   "source": [
    "#### 문제1. 10보다 작은 자연수 중에서 3또는 5의 배수는 3,5,6,8가 존재\n",
    "#### 이것들의 합은 23입니다.\n",
    "\n",
    "#### 1000보다 작은 자연수 중에서 3또는 5의 배수들을 구해서 모두 합하면 얼마인가요?\n",
    "###### 233168"
   ]
  },
  {
   "cell_type": "code",
   "execution_count": 34,
   "metadata": {},
   "outputs": [],
   "source": [
    "x = 0"
   ]
  },
  {
   "cell_type": "code",
   "execution_count": 44,
   "metadata": {
    "scrolled": false
   },
   "outputs": [
    {
     "name": "stdout",
     "output_type": "stream",
     "text": [
      "233168\n"
     ]
    }
   ],
   "source": [
    "y = 0\n",
    "for x in range(1,1000):\n",
    "    if x%3==0:\n",
    "        y = y+x\n",
    "    elif x%5==0:\n",
    "        y = y+x\n",
    "    else:\n",
    "        pass\n",
    "print(y)"
   ]
  },
  {
   "cell_type": "markdown",
   "metadata": {},
   "source": [
    "#### 문제2. 피보나치 수열의 각 항은 바로앞의 항 2개를 더한 것이 되요\n",
    "#### 1과 2로 시작하는 피보나치 수열은\n",
    "#### 1,2,3,5,8,13,21,34\n",
    "#### 짝수이면서 4백만 이하인 모든 항을 더하면 얼마일까요?"
   ]
  },
  {
   "cell_type": "code",
   "execution_count": 81,
   "metadata": {},
   "outputs": [
    {
     "name": "stdout",
     "output_type": "stream",
     "text": [
      "4613732\n"
     ]
    }
   ],
   "source": [
    "x = 0\n",
    "y = 1\n",
    "k = 0\n",
    "mySum=0\n",
    "while k < 4000000:\n",
    "    k = x+y\n",
    "    x=y\n",
    "    y=k\n",
    "    if k < 4000000:\n",
    "        if k%2==0:\n",
    "            mySum = mySum + k\n",
    "        else:\n",
    "            pass\n",
    "    else:\n",
    "        pass\n",
    "        \n",
    "print(mySum)"
   ]
  },
  {
   "cell_type": "code",
   "execution_count": 37,
   "metadata": {},
   "outputs": [
    {
     "data": {
      "text/plain": [
       "4613732"
      ]
     },
     "execution_count": 37,
     "metadata": {},
     "output_type": "execute_result"
    }
   ],
   "source": [
    "mySum=0\n",
    "a = [1,2]\n",
    "while a[-1] < 4000000:\n",
    "    i = a[-1] + a[-2]\n",
    "    a.append(i)\n",
    "for t in a[0:len(a)-1]:\n",
    "    if t%2 == 0:\n",
    "        mySum = mySum+t\n",
    "mySum"
   ]
  },
  {
   "cell_type": "code",
   "execution_count": 42,
   "metadata": {
    "collapsed": true
   },
   "outputs": [
    {
     "data": {
      "text/plain": [
       "[1,\n",
       " 2,\n",
       " 3,\n",
       " 5,\n",
       " 8,\n",
       " 13,\n",
       " 21,\n",
       " 34,\n",
       " 55,\n",
       " 89,\n",
       " 144,\n",
       " 233,\n",
       " 377,\n",
       " 610,\n",
       " 987,\n",
       " 1597,\n",
       " 2584,\n",
       " 4181,\n",
       " 6765,\n",
       " 10946,\n",
       " 17711,\n",
       " 28657,\n",
       " 46368,\n",
       " 75025,\n",
       " 121393,\n",
       " 196418,\n",
       " 317811,\n",
       " 514229,\n",
       " 832040,\n",
       " 1346269,\n",
       " 2178309,\n",
       " 3524578,\n",
       " 5702887]"
      ]
     },
     "execution_count": 42,
     "metadata": {},
     "output_type": "execute_result"
    }
   ],
   "source": [
    "a"
   ]
  },
  {
   "cell_type": "code",
   "execution_count": 34,
   "metadata": {},
   "outputs": [
    {
     "name": "stdout",
     "output_type": "stream",
     "text": [
      "5\n"
     ]
    }
   ],
   "source": [
    "k=0\n",
    "while k < 5:\n",
    "    k+=1\n",
    "print(k)"
   ]
  },
  {
   "cell_type": "markdown",
   "metadata": {},
   "source": [
    "#### 문제3. 알파벳 대소문자로 되어 있는 문자들이 주어져요\n",
    "#### 문자열에서 가장 많이 사용되는 알파벳이 무엇인지 출력하는 프로그램을 작성하세요\n",
    "#### 단 대소문자 구별하지 않음\n",
    "#### 만약 동률이 존재하면 알파벳 순서가 제일 앞에 있는 알파벳을 출력\n",
    "#### 공백은 제외\n",
    "\n",
    "* \"This is a sample Program mississipi river\"\n",
    "* abcdabcdababccddcd"
   ]
  },
  {
   "cell_type": "code",
   "execution_count": 121,
   "metadata": {},
   "outputs": [
    {
     "data": {
      "text/plain": [
       "'THISISASAMPLEPROGRAMMISSISSIPIRIVER'"
      ]
     },
     "execution_count": 121,
     "metadata": {},
     "output_type": "execute_result"
    }
   ],
   "source": [
    "my = \"This is a sample Program mississipi river\"\n",
    "a=list()\n",
    "my = my.upper()\n",
    "my = my.strip()\n",
    "my = my.replace(\" \",\"\")\n",
    "\n",
    "my"
   ]
  },
  {
   "cell_type": "code",
   "execution_count": 139,
   "metadata": {},
   "outputs": [],
   "source": [
    "for i in range(0,len(my)):\n",
    "    if my.count(my[i]) > my.count(my[i-1]):\n",
    "        a.append(i)\n",
    "    elif my.count(my[i]) < my.count(my[i-1]):\n",
    "        pass\n",
    "    else:\n",
    "        pass"
   ]
  },
  {
   "cell_type": "code",
   "execution_count": 140,
   "metadata": {},
   "outputs": [
    {
     "data": {
      "text/plain": [
       "[2, 7, 12, 13, 14, 17, 21, 29, 31, 33, 34]"
      ]
     },
     "execution_count": 140,
     "metadata": {},
     "output_type": "execute_result"
    }
   ],
   "source": [
    "a"
   ]
  },
  {
   "cell_type": "code",
   "execution_count": 111,
   "metadata": {},
   "outputs": [
    {
     "ename": "SyntaxError",
     "evalue": "invalid syntax (<ipython-input-111-f4d02bdd17b9>, line 7)",
     "output_type": "error",
     "traceback": [
      "\u001b[1;36m  File \u001b[1;32m\"<ipython-input-111-f4d02bdd17b9>\"\u001b[1;36m, line \u001b[1;32m7\u001b[0m\n\u001b[1;33m    else my.count(my[i+1]) == my.count(my[i]):\u001b[0m\n\u001b[1;37m          ^\u001b[0m\n\u001b[1;31mSyntaxError\u001b[0m\u001b[1;31m:\u001b[0m invalid syntax\n"
     ]
    }
   ],
   "source": [
    "\n",
    "for i in range(0,len(my)):\n",
    "    i += 2\n",
    "    if my.count(my[i]) > my.count(my[i+1]):\n",
    "        a.append(i+1)\n",
    "    elif my.count(my[i]) < my.count(my[i+1]):\n",
    "        a.append(i)\n",
    "    else my.count(my[i+1]) == my.count(my[i]):\n",
    "        if my[i+1] > my[i]:\n",
    "            a.append(i+1)\n",
    "        else:\n",
    "            a.append(i)\n",
    "\n",
    "print(my.count(my[i]))"
   ]
  },
  {
   "cell_type": "code",
   "execution_count": 97,
   "metadata": {
    "scrolled": true
   },
   "outputs": [
    {
     "data": {
      "text/plain": [
       "'T'"
      ]
     },
     "execution_count": 97,
     "metadata": {},
     "output_type": "execute_result"
    }
   ],
   "source": [
    "my[0]"
   ]
  },
  {
   "cell_type": "code",
   "execution_count": 82,
   "metadata": {},
   "outputs": [
    {
     "data": {
      "text/plain": [
       "False"
      ]
     },
     "execution_count": 82,
     "metadata": {},
     "output_type": "execute_result"
    }
   ],
   "source": [
    "my.count(my[1]) > my.count(my[2])"
   ]
  },
  {
   "cell_type": "code",
   "execution_count": 104,
   "metadata": {},
   "outputs": [
    {
     "data": {
      "text/plain": [
       "'h'"
      ]
     },
     "execution_count": 104,
     "metadata": {},
     "output_type": "execute_result"
    }
   ],
   "source": [
    "my[1]"
   ]
  },
  {
   "cell_type": "code",
   "execution_count": 105,
   "metadata": {},
   "outputs": [
    {
     "data": {
      "text/plain": [
       "1"
      ]
     },
     "execution_count": 105,
     "metadata": {},
     "output_type": "execute_result"
    }
   ],
   "source": [
    "my.count(my[1])"
   ]
  },
  {
   "cell_type": "markdown",
   "metadata": {},
   "source": [
    "# 문제4. 로또프로그램 작성\n",
    "## 5천원으로 로또복권 5장을 자동으로 구매\n",
    "## 6개번호 뽑기 1장. (1~45)\n",
    "## 이번주 로또 번호 생성하여\n",
    "## 구매한 로또가 당첨이 되는지 확인하자 (보너스 번호 無)\n",
    "* 1등: 6개 다 맞으면\n",
    "* 2등: 5개\n",
    "* 3등: 4개\n",
    "* 4등: 3개\n",
    "### 다섯장의 로또가 몇등에 당첨되었는지 해보쟈~"
   ]
  },
  {
   "cell_type": "code",
   "execution_count": 4,
   "metadata": {
    "scrolled": true
   },
   "outputs": [
    {
     "data": {
      "text/plain": [
       "7"
      ]
     },
     "execution_count": 4,
     "metadata": {},
     "output_type": "execute_result"
    }
   ],
   "source": [
    "import random as rd\n",
    "rd.randint(1,10) # 1부터 10 사이의 정수형 난수 생성 (1~10)"
   ]
  },
  {
   "cell_type": "code",
   "execution_count": 51,
   "metadata": {},
   "outputs": [
    {
     "data": {
      "text/plain": [
       "set"
      ]
     },
     "execution_count": 51,
     "metadata": {},
     "output_type": "execute_result"
    }
   ],
   "source": [
    "\n",
    "x = len(lotto)\n",
    "type(lotto)"
   ]
  },
  {
   "cell_type": "code",
   "execution_count": 125,
   "metadata": {},
   "outputs": [
    {
     "data": {
      "text/plain": [
       "set"
      ]
     },
     "execution_count": 125,
     "metadata": {},
     "output_type": "execute_result"
    }
   ],
   "source": [
    "lotto = set()\n",
    "while len(lotto) < 6:\n",
    "    ex_num = rd.randint(1,45)\n",
    "    lotto.add(ex_num)\n"
   ]
  },
  {
   "cell_type": "code",
   "execution_count": 126,
   "metadata": {},
   "outputs": [
    {
     "data": {
      "text/plain": [
       "set"
      ]
     },
     "execution_count": 126,
     "metadata": {},
     "output_type": "execute_result"
    }
   ],
   "source": [
    "my_lotto = set()\n",
    "my_game = list()\n",
    "for i in range(1,6):\n",
    "    my_lotto = set()\n",
    "    while len(my_lotto) < 6:\n",
    "        a = rd.randint(1,45)\n",
    "        my_lotto.add(a)\n",
    "    my_game.append(my_lotto)\n",
    "type(my_game[1])"
   ]
  },
  {
   "cell_type": "code",
   "execution_count": 25,
   "metadata": {
    "scrolled": true
   },
   "outputs": [
    {
     "name": "stdout",
     "output_type": "stream",
     "text": [
      "당첨되지 않았습니다\n",
      "당첨되지 않았습니다\n",
      "당첨되지 않았습니다\n",
      "당첨되지 않았습니다\n",
      "당첨되지 않았습니다\n"
     ]
    }
   ],
   "source": [
    "lotto = set()\n",
    "while len(lotto) < 6:\n",
    "    ex_num = rd.randint(1,45)\n",
    "    lotto.add(ex_num)\n",
    "\n",
    "my_lotto = set()\n",
    "my_game = list()\n",
    "for i in range(1,6):\n",
    "    my_lotto = set()\n",
    "    while len(my_lotto) < 6:\n",
    "        a = rd.randint(1,45)\n",
    "        my_lotto.add(a)\n",
    "    my_game.append(my_lotto)\n",
    "\n",
    "for i in range(0,5):\n",
    "    if len(lotto&my_game[i])==6:\n",
    "        print(\"1등\")\n",
    "    elif len(lotto&my_game[i])==5:\n",
    "        print(\"2등\")\n",
    "    elif len(lotto&my_game[i])==4:\n",
    "        print(\"3등\")\n",
    "    elif len(lotto&my_game[i])==3:\n",
    "        print(\"4등\")\n",
    "    else:\n",
    "        print(\"당첨되지 않았습니다\")\n",
    "        "
   ]
  },
  {
   "cell_type": "markdown",
   "metadata": {},
   "source": [
    "## bounus 번호 추가"
   ]
  },
  {
   "cell_type": "code",
   "execution_count": 46,
   "metadata": {},
   "outputs": [
    {
     "name": "stdout",
     "output_type": "stream",
     "text": [
      "로또 추첨 시작\n",
      "나의 로또 결과★\n",
      "당첨되지 않았습니다\n",
      "당첨되지 않았습니다\n",
      "당첨되지 않았습니다\n",
      "당첨되지 않았습니다\n",
      "당첨되지 않았습니다\n"
     ]
    }
   ],
   "source": [
    "# lotto 기계 추출\n",
    "print(\"로또 추첨 시작\")\n",
    "lotto = set()\n",
    "while len(lotto) < 7:\n",
    "    ex_num = rd.randint(1,45)\n",
    "    lotto.add(ex_num)\n",
    "\n",
    "lottolist = set(list(lotto)[:6])\n",
    "bonus = list(lotto)[6]\n",
    "bonus = {bonus}\n",
    "\n",
    "# 내가 산 5게임\n",
    "print(\"나의 로또 결과★\")\n",
    "my_lotto = set()\n",
    "my_game = list()\n",
    "for i in range(1,6):\n",
    "    my_lotto = set()\n",
    "    while len(my_lotto) < 6:\n",
    "        a = rd.randint(1,45)\n",
    "        my_lotto.add(a)\n",
    "    my_game.append(my_lotto)\n",
    "    \n",
    "# 내가 산 게임이 몇등인지 돌려본다\n",
    "for i in range(0,5):\n",
    "    if len(lottolist&my_game[i])==6:\n",
    "        print(\"1등\")\n",
    "    elif len(lottolist&my_game[i])==5:\n",
    "        if len(bonus&my_game)==1:\n",
    "            print(\"2등\")\n",
    "        else:\n",
    "            print(\"3등\")\n",
    "    elif len(lottolist&my_game[i])==4:\n",
    "        print(\"4등\")\n",
    "    elif len(lottolist&my_game[i])==3:\n",
    "        print(\"5등\")\n",
    "    else:\n",
    "        print(\"당첨되지 않았습니다\")"
   ]
  },
  {
   "cell_type": "code",
   "execution_count": 42,
   "metadata": {
    "scrolled": false
   },
   "outputs": [
    {
     "name": "stdout",
     "output_type": "stream",
     "text": [
      "로또 추첨 시작\n",
      "내게임의 결과는?\n",
      "당첨되지 않았습니다\n",
      "당첨되지 않았습니다\n",
      "당첨되지 않았습니다\n",
      "당첨되지 않았습니다\n",
      "당첨되지 않았습니다\n"
     ]
    }
   ],
   "source": [
    "           # lotto 기계 추출\n",
    "print(\"로또 추첨 시작\")\n",
    "lotto = set()\n",
    "while len(lotto) < 7:\n",
    "    ex_num = rd.randint(1,45)\n",
    "    lotto.add(ex_num)\n",
    "\n",
    "lottolist = set(list(lotto)[:6])\n",
    "bonus = list(lotto)[6]\n",
    "bonus = {bonus}\n",
    "\n",
    "        # 내가 산 5게임\n",
    "print(\"내게임의 결과는?\")\n",
    "my_lotto = set()\n",
    "my_game = list()\n",
    "for i in range(1,6):\n",
    "    my_lotto = set()\n",
    "    while len(my_lotto) < 6:\n",
    "        a = rd.randint(1,45)\n",
    "        my_lotto.add(a)\n",
    "    my_game.append(my_lotto)\n",
    "    \n",
    "        # 내가 산 게임이 몇등인지 돌려본다\n",
    "for i in range(0,5):\n",
    "    if len(lottolist&my_game[i])==6:\n",
    "        print(\"1등\")\n",
    "    elif len(lottolist&my_game[i])==5 and len(bonus&my_game[i])==1:\n",
    "        print(\"2등\")\n",
    "    elif len(lottolist&my_game[i])==5 and len(bonus&my_game[i])==0:\n",
    "        print(\"3등\")\n",
    "    elif len(lottolist&my_game[i])==4:\n",
    "        print(\"4등\")\n",
    "    elif len(lottolist&my_game[i])==3:\n",
    "        print(\"5등\")\n",
    "    else:\n",
    "        print(\"당첨되지 않았습니다\")\n"
   ]
  },
  {
   "cell_type": "code",
   "execution_count": null,
   "metadata": {},
   "outputs": [],
   "source": [
    "print(\"로또 추첨 시작\")\n",
    "lotto = set()\n",
    "while len(lotto) < 7:\n",
    "    ex_num = rd.randint(1,45)\n",
    "    lotto.add(ex_num)\n",
    "bonus = list(lotto)[6]\n",
    "bonus = {bonus}\n",
    "type(bonus)\n",
    "bonus"
   ]
  },
  {
   "cell_type": "markdown",
   "metadata": {},
   "source": [
    "## 1등에 당첨될려면 평균적으로 얼마만큼의 돈을 투자해야 할까요? \n",
    "## 로또1게임은 1000원"
   ]
  },
  {
   "cell_type": "code",
   "execution_count": 51,
   "metadata": {},
   "outputs": [
    {
     "name": "stdout",
     "output_type": "stream",
     "text": [
      "로또 추첨 시작\n",
      "나의 로또 결과★\n"
     ]
    },
    {
     "ename": "KeyboardInterrupt",
     "evalue": "",
     "output_type": "error",
     "traceback": [
      "\u001b[1;31m---------------------------------------------------------------------------\u001b[0m",
      "\u001b[1;31mKeyboardInterrupt\u001b[0m                         Traceback (most recent call last)",
      "\u001b[1;32m<ipython-input-51-c07714bf19d2>\u001b[0m in \u001b[0;36m<module>\u001b[1;34m\u001b[0m\n\u001b[0;32m     31\u001b[0m     \u001b[1;32melse\u001b[0m\u001b[1;33m:\u001b[0m\u001b[1;33m\u001b[0m\u001b[1;33m\u001b[0m\u001b[0m\n\u001b[0;32m     32\u001b[0m         \u001b[1;32mfor\u001b[0m \u001b[0mi\u001b[0m \u001b[1;32min\u001b[0m \u001b[0mrange\u001b[0m\u001b[1;33m(\u001b[0m\u001b[1;36m0\u001b[0m\u001b[1;33m,\u001b[0m\u001b[1;36m5\u001b[0m\u001b[1;33m)\u001b[0m\u001b[1;33m:\u001b[0m\u001b[1;33m\u001b[0m\u001b[1;33m\u001b[0m\u001b[0m\n\u001b[1;32m---> 33\u001b[1;33m             \u001b[1;32mif\u001b[0m \u001b[0mlen\u001b[0m\u001b[1;33m(\u001b[0m\u001b[0mlottolist\u001b[0m\u001b[1;33m&\u001b[0m\u001b[0mmy_game\u001b[0m\u001b[1;33m[\u001b[0m\u001b[0mi\u001b[0m\u001b[1;33m]\u001b[0m\u001b[1;33m)\u001b[0m\u001b[1;33m==\u001b[0m\u001b[1;36m6\u001b[0m\u001b[1;33m:\u001b[0m\u001b[1;33m\u001b[0m\u001b[1;33m\u001b[0m\u001b[0m\n\u001b[0m\u001b[0;32m     34\u001b[0m                 \u001b[0mprint\u001b[0m\u001b[1;33m(\u001b[0m\u001b[1;34m\"1등\"\u001b[0m\u001b[1;33m)\u001b[0m\u001b[1;33m\u001b[0m\u001b[1;33m\u001b[0m\u001b[0m\n\u001b[0;32m     35\u001b[0m                 \u001b[0mresult\u001b[0m \u001b[1;33m=\u001b[0m \u001b[1;36m1\u001b[0m\u001b[1;33m\u001b[0m\u001b[1;33m\u001b[0m\u001b[0m\n",
      "\u001b[1;31mKeyboardInterrupt\u001b[0m: "
     ]
    }
   ],
   "source": [
    "# lotto 기계 추출\n",
    "print(\"로또 추첨 시작\")\n",
    "lotto = set()\n",
    "while len(lotto) < 7:\n",
    "    ex_num = rd.randint(1,45)\n",
    "    lotto.add(ex_num)\n",
    "\n",
    "lottolist = set(list(lotto)[:6])\n",
    "bonus = list(lotto)[6]\n",
    "bonus = {bonus}\n",
    "\n",
    "# 내가 산 5게임\n",
    "print(\"나의 로또 결과★\")\n",
    "my_lotto = set()\n",
    "my_game = list()\n",
    "\n",
    "for i in range(1,6):\n",
    "    my_lotto = set()\n",
    "    while len(my_lotto) < 6:\n",
    "        a = rd.randint(1,45)\n",
    "        my_lotto.add(a)\n",
    "    my_game.append(my_lotto)\n",
    "\n",
    "myTry=0\n",
    "result=0\n",
    "# 내가 산 게임이 몇등인지 돌려본다\n",
    "while True:\n",
    "    myTry += 1\n",
    "    if result == 1:\n",
    "        break\n",
    "    else:\n",
    "        for i in range(0,5):\n",
    "            if len(lottolist&my_game[i])==6:\n",
    "                print(\"1등\")\n",
    "                result = 1\n",
    "            else:\n",
    "                pass\n",
    "            \n",
    "print(myTry)"
   ]
  },
  {
   "cell_type": "markdown",
   "metadata": {},
   "source": [
    "## 문제5. 어떤 수를 소수의 곱으로만 나타내는 것을 소인수 분해라고 합니다.\n",
    "## 이 소수들을 그 수의 소인수라고 합니다.\n",
    "## 이때, 13195의 소인수는 [5 7 13 29] 입니다.\n",
    "## 600851475243의 소인수 중 가장 큰 수는 얼마인가요?"
   ]
  },
  {
   "cell_type": "code",
   "execution_count": 3,
   "metadata": {},
   "outputs": [],
   "source": [
    "# 소수 판별기\n",
    "def prime_number(num):\n",
    "    if num != 1:\n",
    "        for i in range(2,num):\n",
    "            if num % i == 0:\n",
    "                return False\n",
    "    else:\n",
    "        return False\n",
    "    return True"
   ]
  },
  {
   "cell_type": "code",
   "execution_count": 4,
   "metadata": {},
   "outputs": [
    {
     "data": {
      "text/plain": [
       "[2, 3, 5]"
      ]
     },
     "execution_count": 4,
     "metadata": {},
     "output_type": "execute_result"
    }
   ],
   "source": [
    "# 소수 뽑아내기 \n",
    "def prime_number_list(num):\n",
    "    integer_list = (x for x in range(2,num+1))\n",
    "    prime_numbers = []\n",
    "    for t in integer_list:\n",
    "        if prime_number(t):\n",
    "            prime_numbers.append(t)\n",
    "    return prime_numbers\n",
    "\n",
    "prime_number_list(5)"
   ]
  },
  {
   "cell_type": "markdown",
   "metadata": {},
   "source": [
    "소인수 분해를 해보자"
   ]
  },
  {
   "cell_type": "code",
   "execution_count": null,
   "metadata": {},
   "outputs": [],
   "source": [
    "# num은 나의 변수. 소인수 분해 목록을 작성하자.\n",
    "num = 13195\n",
    "fac_list = list()\n",
    "while i in range(2,num):\n",
    "    num % i == 0\n",
    "    fac_list.append(i)\n",
    "    for k in range(2,len(fac_list)):\n",
    "        if fac_list(k) % \n",
    "        \n",
    "        \n",
    "f num != 1:\n",
    "        for i in range(2,num):\n",
    "            if num % i == 0:\n",
    "                return False\n",
    "    else:\n",
    "        return False\n",
    "    return True"
   ]
  },
  {
   "cell_type": "code",
   "execution_count": 35,
   "metadata": {
    "scrolled": true
   },
   "outputs": [
    {
     "name": "stdout",
     "output_type": "stream",
     "text": [
      "[2, 4, 5, 10, 20, 25, 50]\n",
      "7\n"
     ]
    }
   ],
   "source": [
    "num = 100\n",
    "fac_list = list()\n",
    "for i in range(2,num):\n",
    "    if num % i == 0:\n",
    "        fac_list.append(i)\n",
    "    else:\n",
    "        pass\n",
    "cn = len(fac_list)\n",
    "print(fac_list)\n",
    "print(cn)"
   ]
  },
  {
   "cell_type": "code",
   "execution_count": 19,
   "metadata": {},
   "outputs": [],
   "source": [
    "myList = list()"
   ]
  },
  {
   "cell_type": "code",
   "execution_count": 36,
   "metadata": {},
   "outputs": [
    {
     "ename": "IndexError",
     "evalue": "list index out of range",
     "output_type": "error",
     "traceback": [
      "\u001b[1;31m---------------------------------------------------------------------------\u001b[0m",
      "\u001b[1;31mIndexError\u001b[0m                                Traceback (most recent call last)",
      "\u001b[1;32m<ipython-input-36-7cdd7077846b>\u001b[0m in \u001b[0;36m<module>\u001b[1;34m\u001b[0m\n\u001b[0;32m      8\u001b[0m         \u001b[1;32mpass\u001b[0m\u001b[1;33m\u001b[0m\u001b[1;33m\u001b[0m\u001b[0m\n\u001b[0;32m      9\u001b[0m \u001b[0mcn\u001b[0m \u001b[1;33m=\u001b[0m \u001b[0mlen\u001b[0m\u001b[1;33m(\u001b[0m\u001b[0mfac_list\u001b[0m\u001b[1;33m)\u001b[0m\u001b[1;33m\u001b[0m\u001b[1;33m\u001b[0m\u001b[0m\n\u001b[1;32m---> 10\u001b[1;33m \u001b[1;32mfor\u001b[0m \u001b[0mk\u001b[0m \u001b[1;32min\u001b[0m \u001b[0mrange\u001b[0m\u001b[1;33m(\u001b[0m\u001b[1;36m2\u001b[0m\u001b[1;33m,\u001b[0m \u001b[0mfac_list\u001b[0m\u001b[1;33m[\u001b[0m\u001b[0mcn\u001b[0m\u001b[1;33m]\u001b[0m\u001b[1;33m+\u001b[0m\u001b[1;36m1\u001b[0m\u001b[1;33m)\u001b[0m\u001b[1;33m:\u001b[0m\u001b[1;33m\u001b[0m\u001b[1;33m\u001b[0m\u001b[0m\n\u001b[0m\u001b[0;32m     11\u001b[0m     \u001b[1;32mif\u001b[0m \u001b[0mfac_list\u001b[0m\u001b[1;33m[\u001b[0m\u001b[0mk\u001b[0m\u001b[1;33m]\u001b[0m \u001b[1;33m%\u001b[0m \u001b[0mk\u001b[0m \u001b[1;33m!=\u001b[0m \u001b[1;36m0\u001b[0m\u001b[1;33m:\u001b[0m\u001b[1;33m\u001b[0m\u001b[1;33m\u001b[0m\u001b[0m\n\u001b[0;32m     12\u001b[0m         \u001b[0mprime_list\u001b[0m\u001b[1;33m.\u001b[0m\u001b[0mappend\u001b[0m\u001b[1;33m(\u001b[0m\u001b[0mfac_list\u001b[0m\u001b[1;33m[\u001b[0m\u001b[0mk\u001b[0m\u001b[1;33m]\u001b[0m\u001b[1;33m)\u001b[0m\u001b[1;33m\u001b[0m\u001b[1;33m\u001b[0m\u001b[0m\n",
      "\u001b[1;31mIndexError\u001b[0m: list index out of range"
     ]
    }
   ],
   "source": [
    "num = 100\n",
    "fac_list = list()\n",
    "prime_list = list()\n",
    "for i in range(2,num):\n",
    "    if num % i == 0:\n",
    "        fac_list.append(i)\n",
    "    else:\n",
    "        pass\n",
    "cn = len(fac_list)\n",
    "for k in range(2, fac_list[cn]+1):\n",
    "    if fac_list[k] % k != 0:\n",
    "        prime_list.append(fac_list[k])\n",
    "    else:\n",
    "        pass\n",
    "prime_list\n",
    "        "
   ]
  }
 ],
 "metadata": {
  "kernelspec": {
   "display_name": "[CPU_ENV]",
   "language": "python",
   "name": "cpu_env"
  },
  "language_info": {
   "codemirror_mode": {
    "name": "ipython",
    "version": 3
   },
   "file_extension": ".py",
   "mimetype": "text/x-python",
   "name": "python",
   "nbconvert_exporter": "python",
   "pygments_lexer": "ipython3",
   "version": "3.6.9"
  }
 },
 "nbformat": 4,
 "nbformat_minor": 2
}
