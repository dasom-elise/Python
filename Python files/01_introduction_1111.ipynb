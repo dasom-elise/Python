{
 "cells": [
  {
   "cell_type": "code",
   "execution_count": 1,
   "metadata": {},
   "outputs": [
    {
     "data": {
      "text/plain": [
       "'\\nsingle quatation도 주석처리 가능\\nㅎㅎ\\n'"
      ]
     },
     "execution_count": 1,
     "metadata": {},
     "output_type": "execute_result"
    }
   ],
   "source": [
    "# 한줄 주석, R의 주석과 같아요\n",
    "\"\"\"\n",
    "이 안에 있는 건 다 주석이에요\n",
    "주석주석주석\n",
    "\"\"\"\n",
    "'''\n",
    "single quatation도 주석처리 가능\n",
    "ㅎㅎ\n",
    "'''"
   ]
  },
  {
   "cell_type": "markdown",
   "metadata": {},
   "source": [
    "# 2019-11-11"
   ]
  },
  {
   "cell_type": "markdown",
   "metadata": {},
   "source": [
    "##### ctrl+s 로 저장해야함!"
   ]
  },
  {
   "cell_type": "markdown",
   "metadata": {},
   "source": [
    "### python의 장점\n",
    "* 상대적으로 쉬운 언어\n",
    "* 강력한 데이터 분석 library\n",
    "* OpenSource\n",
    "* R에 비해서 범용적인 사용이 가능\n",
    "* 데이터 분석결과를 다른 시스템과 연동시킬 때 좋음\n",
    "* 하위호환성은 없어요(ver2.x와 ver3.x는 전혀 다름)\n",
    "* Pycharm 혹은 jupyter notebook으로 작업해요"
   ]
  },
  {
   "cell_type": "markdown",
   "metadata": {},
   "source": [
    "#### 셀 만드는 방법\n",
    "##### 위: a (above)\n",
    "##### 아래: b (below)\n",
    "##### 지우려면: dd (현재 셀 삭제)"
   ]
  },
  {
   "cell_type": "code",
   "execution_count": 2,
   "metadata": {
    "scrolled": true
   },
   "outputs": [
    {
     "name": "stdout",
     "output_type": "stream",
     "text": [
      "['False', 'None', 'True', 'and', 'as', 'assert', 'break', 'class', 'continue', 'def', 'del', 'elif', 'else', 'except', 'finally', 'for', 'from', 'global', 'if', 'import', 'in', 'is', 'lambda', 'nonlocal', 'not', 'or', 'pass', 'raise', 'return', 'try', 'while', 'with', 'yield']\n"
     ]
    }
   ],
   "source": [
    "# Python의 keyword\n",
    "# keyword module loading\n",
    "import keyword\n",
    "# output영역에 출력할 때 사용하는 함수: print()\n",
    "print(keyword.kwlist)"
   ]
  },
  {
   "cell_type": "markdown",
   "metadata": {},
   "source": [
    "#### Ctrl+Enter: output 영역에 cell을 수행한 영역이 출력됨(셀 실행)\n",
    "#### Alt+Enter: 현재 셀 실행, 아래쪽에 cell 삽입\n",
    "#### Shift+Enter: 현재 셀 실행, 아래쪽 cell 선택\n",
    "#### O: 아웃풋 영역을 접었다 펼 수 있음(마우스 더블클릭 가능)\n",
    "#### L:  라인번호를 보여줌! (라인번호 toggle)"
   ]
  },
  {
   "cell_type": "code",
   "execution_count": 3,
   "metadata": {},
   "outputs": [],
   "source": [
    "a = {1,2,3}"
   ]
  },
  {
   "cell_type": "code",
   "execution_count": 8,
   "metadata": {},
   "outputs": [],
   "source": [
    "a = [1,2,3]"
   ]
  },
  {
   "cell_type": "code",
   "execution_count": 9,
   "metadata": {},
   "outputs": [
    {
     "data": {
      "text/plain": [
       "3"
      ]
     },
     "execution_count": 9,
     "metadata": {},
     "output_type": "execute_result"
    }
   ],
   "source": [
    "a[2]"
   ]
  },
  {
   "cell_type": "markdown",
   "metadata": {},
   "source": [
    "*A*"
   ]
  },
  {
   "cell_type": "code",
   "execution_count": 17,
   "metadata": {},
   "outputs": [
    {
     "data": {
      "text/plain": [
       "200"
      ]
     },
     "execution_count": 17,
     "metadata": {},
     "output_type": "execute_result"
    }
   ],
   "source": [
    "## 변수를 생성하고 삭제해 보아요!\n",
    "\n",
    "var1 = 100;# ;semi-colon생략가능\n",
    "var2 = 200\n",
    "var1\n",
    "var2"
   ]
  },
  {
   "cell_type": "code",
   "execution_count": 18,
   "metadata": {},
   "outputs": [
    {
     "name": "stdout",
     "output_type": "stream",
     "text": [
      "100\n",
      "var2의 값은:  200\n"
     ]
    }
   ],
   "source": [
    "print(var1)  # output에 출력할 때 print()를 이용해보아요\n",
    "print(\"var2의 값은: \",var2) # 인자를 여러개 줄 수 있어요. 여러개의 인자를 하나씩 출력해요!!\n",
    "del var2; # var2를 메모리에서 삭제      => NameError: name 'var2' is not defined"
   ]
  }
 ],
 "metadata": {
  "kernelspec": {
   "display_name": "[CPU_ENV]",
   "language": "python",
   "name": "cpu_env"
  },
  "language_info": {
   "codemirror_mode": {
    "name": "ipython",
    "version": 3
   },
   "file_extension": ".py",
   "mimetype": "text/x-python",
   "name": "python",
   "nbconvert_exporter": "python",
   "pygments_lexer": "ipython3",
   "version": "3.6.9"
  }
 },
 "nbformat": 4,
 "nbformat_minor": 2
}
