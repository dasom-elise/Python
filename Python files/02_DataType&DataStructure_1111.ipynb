{
 "cells": [
  {
   "cell_type": "markdown",
   "metadata": {},
   "source": [
    "# ***Python Built-in Type***\n",
    "##### numeric 숫자계열; int(정수), float(실수), complex(복소수)\n",
    "##### textSequence Type; Str(문자열)\n",
    "##### Bool; 논리(True,False)\n",
    "\n",
    "# ***자료구조***\n",
    "##### 순서 有 Sequence(list, tuple)\n",
    "##### Mapping (dict)\n",
    "##### Set (set)\n"
   ]
  },
  {
   "cell_type": "code",
   "execution_count": 12,
   "metadata": {},
   "outputs": [],
   "source": [
    "# Numeric Data Type\n",
    "# int(정수)\n",
    "# flocat(실수)\n",
    "# complex(복소수)\n",
    "\n",
    "a = 123 # int(10진수)\n",
    "b = 3.14159265358979 # float\n",
    "c = 3.14E10 # 지수표현, 실수로 취급됨\n",
    "d = 1+ 2j #복소수\n",
    "e = 0o37 # 8진수 # 앞은 숫자0, 뒤는 영문자o\n",
    "f = 0xFF # 16진수"
   ]
  },
  {
   "cell_type": "code",
   "execution_count": 2,
   "metadata": {},
   "outputs": [
    {
     "data": {
      "text/plain": [
       "31400000000.0"
      ]
     },
     "execution_count": 2,
     "metadata": {},
     "output_type": "execute_result"
    }
   ],
   "source": [
    "c"
   ]
  },
  {
   "cell_type": "code",
   "execution_count": 4,
   "metadata": {},
   "outputs": [
    {
     "data": {
      "text/plain": [
       "(1+2j)"
      ]
     },
     "execution_count": 4,
     "metadata": {},
     "output_type": "execute_result"
    }
   ],
   "source": [
    "d"
   ]
  },
  {
   "cell_type": "code",
   "execution_count": 14,
   "metadata": {},
   "outputs": [
    {
     "name": "stdout",
     "output_type": "stream",
     "text": [
      "<class 'int'>\n",
      "<class 'float'>\n",
      "<class 'complex'>\n",
      "<class 'int'>\n",
      "<class 'int'>\n"
     ]
    }
   ],
   "source": [
    "# data 타입을 보려면? type\n",
    "print(type(a));print(type(c))\n",
    "print(type(d))\n",
    "print(type(e))\n",
    "print(type(f))"
   ]
  },
  {
   "cell_type": "code",
   "execution_count": 15,
   "metadata": {},
   "outputs": [
    {
     "name": "stdout",
     "output_type": "stream",
     "text": [
      "0.75\n"
     ]
    }
   ],
   "source": [
    "div = 3/4 # 0.75(3.x버전), 0(2.x 버전)\n",
    "print(div)"
   ]
  },
  {
   "cell_type": "code",
   "execution_count": 16,
   "metadata": {},
   "outputs": [
    {
     "name": "stdout",
     "output_type": "stream",
     "text": [
      "27\n"
     ]
    }
   ],
   "source": [
    "result = 3 ** 3 # 지수표현\n",
    "print(result)"
   ]
  },
  {
   "cell_type": "code",
   "execution_count": 17,
   "metadata": {},
   "outputs": [
    {
     "data": {
      "text/plain": [
       "1"
      ]
     },
     "execution_count": 17,
     "metadata": {},
     "output_type": "execute_result"
    }
   ],
   "source": [
    "# 나머지 연산\n",
    "result = 100 % 3\n",
    "result"
   ]
  },
  {
   "cell_type": "code",
   "execution_count": 18,
   "metadata": {},
   "outputs": [
    {
     "data": {
      "text/plain": [
       "33"
      ]
     },
     "execution_count": 18,
     "metadata": {},
     "output_type": "execute_result"
    }
   ],
   "source": [
    "result = 100 //3 #몫구하기\n",
    "result"
   ]
  },
  {
   "cell_type": "code",
   "execution_count": 21,
   "metadata": {},
   "outputs": [],
   "source": [
    "# Text Sequence Type (Str)\n",
    "# 우리가 일반적으로 말하는 문자열\n",
    "\n",
    "# 문자열 생성 방법\n",
    "a = \"Hello\" # \"\"을 이용하여 생성                   # 한줄짜리 문자열\n",
    "b = 'hello' #'' 싱글 quatation도 가능             # 한줄짜리 문자열\n",
    "c = \"\"\"이것은 \n",
    "소리 \n",
    "없는 \n",
    "아우성\"\"\" # 문자열에 저장하면 주석이 아니라 문자열이 됨 + 줄바꿈 포함가능!!!!"
   ]
  },
  {
   "cell_type": "code",
   "execution_count": 23,
   "metadata": {},
   "outputs": [
    {
     "name": "stdout",
     "output_type": "stream",
     "text": [
      "이것은 \n",
      "소리 \n",
      "없는 \n",
      "아우성\n"
     ]
    }
   ],
   "source": [
    "print(c)"
   ]
  },
  {
   "cell_type": "code",
   "execution_count": 24,
   "metadata": {},
   "outputs": [
    {
     "name": "stdout",
     "output_type": "stream",
     "text": [
      "da\n",
      "som\n"
     ]
    }
   ],
   "source": [
    "d = \"da\\nsom\"\n",
    "print(d)"
   ]
  },
  {
   "cell_type": "code",
   "execution_count": 25,
   "metadata": {},
   "outputs": [
    {
     "name": "stdout",
     "output_type": "stream",
     "text": [
      "줄바꿈이\n",
      "역시\n",
      "가능해요\n"
     ]
    }
   ],
   "source": [
    "e = '''줄바꿈이\n",
    "역시\n",
    "가능해요'''\n",
    "print(e)"
   ]
  },
  {
   "cell_type": "code",
   "execution_count": 27,
   "metadata": {},
   "outputs": [
    {
     "data": {
      "text/plain": [
       "'이것은 소리없는 아우성!!'"
      ]
     },
     "execution_count": 27,
     "metadata": {},
     "output_type": "execute_result"
    }
   ],
   "source": [
    "# 문자열 연산, Indexing, Slicing\n",
    "first = \"이것은 \"\n",
    "last = \"소리없는 아우성!!\"\n",
    "# 두 문자열 연결하기\n",
    "result = first + last       # 연산자 overloading\n",
    "result"
   ]
  },
  {
   "cell_type": "code",
   "execution_count": 30,
   "metadata": {},
   "outputs": [
    {
     "name": "stdout",
     "output_type": "stream",
     "text": [
      "pythonpythonpython\n"
     ]
    },
    {
     "data": {
      "text/plain": [
       "'pythonpythonpython'"
      ]
     },
     "execution_count": 30,
     "metadata": {},
     "output_type": "execute_result"
    }
   ],
   "source": [
    "# 문자열의 곱은?\n",
    "text = \"python\"\n",
    "print(text * 3)\n",
    "text*3"
   ]
  },
  {
   "cell_type": "code",
   "execution_count": 46,
   "metadata": {},
   "outputs": [
    {
     "name": "stdout",
     "output_type": "stream",
     "text": [
      "t\n",
      "a\n",
      "this \n",
      " a sampl\n",
      "this\n",
      "text!!, show me the money!\n",
      "this is a sample text!!, show me the money!\n"
     ]
    }
   ],
   "source": [
    "a = \"this is a sample text!!, show me the money!\" \n",
    "# indexing\n",
    "print(a[0]) #t\n",
    "print(a[8]) #a\n",
    "a[-2] # - 는 뒤부터 인덱싱\n",
    "\n",
    "# slicing은 일부분을 발췌\n",
    "print(a[0:5])\n",
    "print(a[7:15]) # 시작은inclusive, 마지막은 exclusive            cf. R은 다포함\n",
    "print(a[:4])    # 앞에 아무것도 없는 경우 처음부터~인덱스 이전까지\n",
    "print(a[17:])   # 뒤에 아무것도 없는 경우 시작지점인덱스부터~끝까지\n",
    "\n",
    "print(a[:])      # 문자열의 처음과 끝\n"
   ]
  },
  {
   "cell_type": "code",
   "execution_count": 49,
   "metadata": {},
   "outputs": [
    {
     "name": "stdout",
     "output_type": "stream",
     "text": [
      "True\n",
      "False\n",
      "False\n"
     ]
    }
   ],
   "source": [
    "# not, in, not in연산자가 존재함      (in r: %in$)\n",
    "a = \"this is a Sample Text\";\n",
    "print(\"this\" in a)      # True       # in을 이용해서 논리연산 가능\n",
    "print(\"this\" not in a)      # False\n",
    "print(\"sample\" in a) # False # 대소문자 구분"
   ]
  },
  {
   "cell_type": "code",
   "execution_count": 50,
   "metadata": {},
   "outputs": [
    {
     "name": "stdout",
     "output_type": "stream",
     "text": [
      "True\n"
     ]
    }
   ],
   "source": [
    "print(\"sample\" in a.lower())    # 전부 소문자로 바꾸고-> 안에 있니? -> True반환"
   ]
  },
  {
   "cell_type": "code",
   "execution_count": 62,
   "metadata": {},
   "outputs": [
    {
     "name": "stdout",
     "output_type": "stream",
     "text": [
      "사과가 10개 있어요~~~ 사과가10개 있어요~^^\n",
      "딸기가 5개 있어요\n"
     ]
    }
   ],
   "source": [
    "# 문자열 formatting\n",
    "apple = 10; # int를 -> str로 \n",
    "strawberry = 5\n",
    "a = \"사과가 10개 있어요~~~\"\n",
    "b = \"사과가\" + str(apple) + \"개 있어요~^^\"\n",
    "print(a,b)\n",
    "\n",
    "# 너무 복잡하니(?) 새로운 방법을 제시\n",
    "c = \"딸기가 %d개 있어요\" %strawberry         # formatting을 하면 변수값활용하여 문자열을 만들 수 있음\n",
    "print(c)"
   ]
  },
  {
   "cell_type": "code",
   "execution_count": 63,
   "metadata": {},
   "outputs": [
    {
     "data": {
      "text/plain": [
       "'딸기가 5개 있어요'"
      ]
     },
     "execution_count": 63,
     "metadata": {},
     "output_type": "execute_result"
    }
   ],
   "source": [
    "c"
   ]
  },
  {
   "cell_type": "code",
   "execution_count": 68,
   "metadata": {},
   "outputs": [
    {
     "data": {
      "text/plain": [
       "'사과가 10개, 바나나가 1개 있어요!!'"
      ]
     },
     "execution_count": 68,
     "metadata": {},
     "output_type": "execute_result"
    }
   ],
   "source": [
    "apple\n",
    "a = \"사과가 %d개, 바나나가 %d개 있어요!!\" %(apple,1)\n",
    "a"
   ]
  },
  {
   "cell_type": "code",
   "execution_count": 69,
   "metadata": {},
   "outputs": [
    {
     "data": {
      "text/plain": [
       "'원주율은 3.141593입니까?'"
      ]
     },
     "execution_count": 69,
     "metadata": {},
     "output_type": "execute_result"
    }
   ],
   "source": [
    "a = \"원주율은 %f입니까?\"%3.1415926535           # %f 는 플롯, 실수의 의미 d는 정수만 반환\n",
    "a"
   ]
  },
  {
   "cell_type": "code",
   "execution_count": 76,
   "metadata": {},
   "outputs": [
    {
     "name": "stdout",
     "output_type": "stream",
     "text": [
      "이것은 소리없는        아우성!!\n",
      "사과를 내가 친구        에게 나누어 줬습니다\n"
     ]
    }
   ],
   "source": [
    "a = \"이것은 소리없는 %10s!!\" %\"아우성\"        # 문자열이니까 %s\n",
    "print(a)              # %10s -> 문자열을 10칸 잡으라는 뜻이 됨, 오른쪽 정렬\n",
    "b = \"사과를 내가 %-10s에게 나누어 줬습니다\"%\"친구\"\n",
    "print(b)         # %-10s 형태뿐 아니라 모양도 지정, 왼쪽 정렬"
   ]
  },
  {
   "cell_type": "code",
   "execution_count": 78,
   "metadata": {},
   "outputs": [
    {
     "name": "stdout",
     "output_type": "stream",
     "text": [
      "원주율은     3.1416\n"
     ]
    }
   ],
   "source": [
    "a = \"원주율은 %10.4f\"%3.141592 # 0.4 =소숫점 4째 자리까지를 의미함     # 5번째 자리에서 반올림 해야함 \n",
    "# 정수부는 전체길이\n",
    "print(a)\n",
    "\n"
   ]
  },
  {
   "cell_type": "code",
   "execution_count": 4,
   "metadata": {},
   "outputs": [
    {
     "name": "stdout",
     "output_type": "stream",
     "text": [
      "8\n",
      "3\n",
      "1\n"
     ]
    }
   ],
   "source": [
    "## 문자열 함수\n",
    "a = \"cocacola\"\n",
    "# 문자열 길이\n",
    "result = len(a) # 문자열 길이 출력\n",
    "print(result)\n",
    "\n",
    "result2 = a.count(\"c\") # ()이 a라는 문자열 안에 몇개 있는지 # 문자열의 매서드를 호출\n",
    "print(result2) # 특정 키워드가 몇개 등장하는지 쉽게 찾을 수 있음\n",
    "\n",
    "result3 = a.find(\"o\"); print(result3)\n",
    "\n"
   ]
  },
  {
   "cell_type": "code",
   "execution_count": 5,
   "metadata": {},
   "outputs": [],
   "source": [
    "a = \":\"\n",
    "b = \"abcd\"\n",
    "result = a.join(b)"
   ]
  },
  {
   "cell_type": "code",
   "execution_count": 6,
   "metadata": {},
   "outputs": [
    {
     "name": "stdout",
     "output_type": "stream",
     "text": [
      "a:b:c:d\n"
     ]
    }
   ],
   "source": [
    "print(result)"
   ]
  },
  {
   "cell_type": "code",
   "execution_count": 8,
   "metadata": {},
   "outputs": [],
   "source": [
    "a = [\"이것은\",\"소리없는\",\"아우성\"]\n",
    "b = \" \"\n",
    "myR = b.join(a)    # 한칸씩 띄어쓰고 결과를 원해따!"
   ]
  },
  {
   "cell_type": "code",
   "execution_count": 9,
   "metadata": {},
   "outputs": [
    {
     "data": {
      "text/plain": [
       "'이것은 소리없는 아우성'"
      ]
     },
     "execution_count": 9,
     "metadata": {},
     "output_type": "execute_result"
    }
   ],
   "source": [
    "myR"
   ]
  },
  {
   "cell_type": "code",
   "execution_count": 13,
   "metadata": {},
   "outputs": [
    {
     "name": "stdout",
     "output_type": "stream",
     "text": [
      " hoBBy \n",
      "hoBBy\n"
     ]
    }
   ],
   "source": [
    "a = \" hoBBy \"\n",
    "# print(a.upper()) # 대문자\n",
    "# print(a.lower()) # 소문자\n",
    "print(a)\n",
    "print(a.strip()) # 앞과 뒤의 공백을 날려줌"
   ]
  },
  {
   "cell_type": "code",
   "execution_count": 18,
   "metadata": {},
   "outputs": [
    {
     "name": "stdout",
     "output_type": "stream",
     "text": [
      "사과가 10개 있음 나는 귤을 3개 가지고 있어요! 나는 오렌지를 Five개 가지고 있어요!\n"
     ]
    }
   ],
   "source": [
    "# 출력 양식을 설정할 때 formatting 이용\n",
    "apple = 10\n",
    "a = \"사과가 %d개 있음\"%apple\n",
    "b = \"나는 귤을 {0}개 가지고 있어요!\".format(3)\n",
    "c = \"나는 오렌지를 {0}개 가지고 있어요!\".format(\"Five\")\n",
    "print(a,b,c)"
   ]
  },
  {
   "cell_type": "code",
   "execution_count": 22,
   "metadata": {},
   "outputs": [
    {
     "data": {
      "text/plain": [
       "'사과를 13개, 바나나115개 가지고 있어요ㅎㅎ'"
      ]
     },
     "execution_count": 22,
     "metadata": {},
     "output_type": "execute_result"
    }
   ],
   "source": [
    "d = \"사과를 {}개, 바나나{}개 가지고 있어요ㅎㅎ\".format(13,115)\n",
    "d"
   ]
  },
  {
   "cell_type": "code",
   "execution_count": null,
   "metadata": {},
   "outputs": [],
   "source": [
    "e = I have {var1} bananas and {var2}"
   ]
  },
  {
   "cell_type": "code",
   "execution_count": null,
   "metadata": {},
   "outputs": [],
   "source": []
  }
 ],
 "metadata": {
  "kernelspec": {
   "display_name": "[CPU_ENV]",
   "language": "python",
   "name": "cpu_env"
  },
  "language_info": {
   "codemirror_mode": {
    "name": "ipython",
    "version": 3
   },
   "file_extension": ".py",
   "mimetype": "text/x-python",
   "name": "python",
   "nbconvert_exporter": "python",
   "pygments_lexer": "ipython3",
   "version": "3.6.9"
  }
 },
 "nbformat": 4,
 "nbformat_minor": 2
}
