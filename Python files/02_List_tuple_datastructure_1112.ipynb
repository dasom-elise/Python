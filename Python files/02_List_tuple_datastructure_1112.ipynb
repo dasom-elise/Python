{
 "cells": [
  {
   "cell_type": "code",
   "execution_count": 1,
   "metadata": {},
   "outputs": [],
   "source": [
    "myList = list() # 비어있는 리스트를 생성\n",
    "myList = [] # list를 literal로 표현(코드상)\n",
    "myList = [1,2,3] # 3개의 값을 가지는 list 생성\n",
    "myList = [1,2,14,True,\"아우성!!\"] # 모든 데이터 타입 가능\n",
    "MyList = [10,[\"Show\",\"me\",\"the\",\"money\"],3.14,True] # 리스트안에 또 다른 자료구조를 넣을 수 있어요"
   ]
  },
  {
   "cell_type": "code",
   "execution_count": 2,
   "metadata": {},
   "outputs": [
    {
     "name": "stdout",
     "output_type": "stream",
     "text": [
      "3.14\n"
     ]
    }
   ],
   "source": [
    "print(MyList[2])"
   ]
  },
  {
   "cell_type": "code",
   "execution_count": 4,
   "metadata": {},
   "outputs": [
    {
     "name": "stdout",
     "output_type": "stream",
     "text": [
      "money\n"
     ]
    }
   ],
   "source": [
    "print(MyList[1][3])"
   ]
  },
  {
   "cell_type": "code",
   "execution_count": 5,
   "metadata": {},
   "outputs": [
    {
     "data": {
      "text/plain": [
       "True"
      ]
     },
     "execution_count": 5,
     "metadata": {},
     "output_type": "execute_result"
    }
   ],
   "source": [
    "MyList[-1]"
   ]
  },
  {
   "cell_type": "code",
   "execution_count": 6,
   "metadata": {},
   "outputs": [
    {
     "name": "stdout",
     "output_type": "stream",
     "text": [
      "[10]\n"
     ]
    }
   ],
   "source": [
    "print(MyList[0:1]) #앞은 inclusive, 뒤는 exclusive #리스트 형식으로 출력"
   ]
  },
  {
   "cell_type": "code",
   "execution_count": null,
   "metadata": {},
   "outputs": [],
   "source": [
    "# 인덱싱과 슬라이싱"
   ]
  },
  {
   "cell_type": "code",
   "execution_count": 8,
   "metadata": {},
   "outputs": [
    {
     "data": {
      "text/plain": [
       "['the', 'money']"
      ]
     },
     "execution_count": 8,
     "metadata": {},
     "output_type": "execute_result"
    }
   ],
   "source": [
    "MyList[1][2:] # 슬라이싱-> 리스트 타입으로 출력하게 됨"
   ]
  },
  {
   "cell_type": "code",
   "execution_count": 9,
   "metadata": {},
   "outputs": [
    {
     "data": {
      "text/plain": [
       "'money'"
      ]
     },
     "execution_count": 9,
     "metadata": {},
     "output_type": "execute_result"
    }
   ],
   "source": [
    "MyList[1][3]"
   ]
  },
  {
   "cell_type": "markdown",
   "metadata": {},
   "source": [
    "## 리스트의 연산\n",
    "##### list를 서로 연결\n",
    "##### R에서는 벡터끼리 더해줬었음"
   ]
  },
  {
   "cell_type": "code",
   "execution_count": 2,
   "metadata": {},
   "outputs": [
    {
     "name": "stdout",
     "output_type": "stream",
     "text": [
      "[1, 2, 3, 4, 5, 6]\n",
      "[1, 2, 3, 1, 2, 3, 1, 2, 3]\n"
     ]
    }
   ],
   "source": [
    "# list의 연산 # 연결해준댜 # connect\n",
    "a = [1,2,3]\n",
    "b = [4,5,6]\n",
    "print(a+b)\n",
    "print(a*3)\n"
   ]
  },
  {
   "cell_type": "code",
   "execution_count": 15,
   "metadata": {},
   "outputs": [],
   "source": [
    "a[0] = 5 # a리스트의 0번째에 5를 넣음"
   ]
  },
  {
   "cell_type": "code",
   "execution_count": 3,
   "metadata": {},
   "outputs": [
    {
     "data": {
      "text/plain": [
       "[1, 2, 3]"
      ]
     },
     "execution_count": 3,
     "metadata": {},
     "output_type": "execute_result"
    }
   ],
   "source": [
    "a"
   ]
  },
  {
   "cell_type": "code",
   "execution_count": 4,
   "metadata": {},
   "outputs": [
    {
     "data": {
      "text/plain": [
       "[7, 8, 9, 2, 3]"
      ]
     },
     "execution_count": 4,
     "metadata": {},
     "output_type": "execute_result"
    }
   ],
   "source": [
    "a[0:1] = [7,8,9] # slicing으로 출력된 리스트를 [7,8,9]로 대체하라는 뜻\n",
    "a"
   ]
  },
  {
   "cell_type": "code",
   "execution_count": 5,
   "metadata": {},
   "outputs": [
    {
     "data": {
      "text/plain": [
       "[7, 8, 9]"
      ]
     },
     "execution_count": 5,
     "metadata": {},
     "output_type": "execute_result"
    }
   ],
   "source": [
    "a[3:] = []       #slicing을 통해 나온 [2.3]을 []빈 리스트로 대체\n",
    "a"
   ]
  },
  {
   "cell_type": "code",
   "execution_count": 20,
   "metadata": {},
   "outputs": [
    {
     "data": {
      "text/plain": [
       "[[7, 8, 9], 2, 3]"
      ]
     },
     "execution_count": 20,
     "metadata": {},
     "output_type": "execute_result"
    }
   ],
   "source": [
    "a = [1,2,3]\n",
    "a[0] = [7,8,9]    # indexing은 출력된 요소-> 리스트로 대체,\n",
    "a"
   ]
  },
  {
   "cell_type": "code",
   "execution_count": 21,
   "metadata": {},
   "outputs": [
    {
     "data": {
      "text/plain": [
       "[1, 3]"
      ]
     },
     "execution_count": 21,
     "metadata": {},
     "output_type": "execute_result"
    }
   ],
   "source": [
    "a = [1,2,3] # a[1]만 지우려면?\n",
    "#del a[1]\n",
    "a[1:2]=[]\n",
    "a"
   ]
  },
  {
   "cell_type": "markdown",
   "metadata": {},
   "source": [
    "##  list에 적용할 수 있는 함수"
   ]
  },
  {
   "cell_type": "code",
   "execution_count": 22,
   "metadata": {},
   "outputs": [
    {
     "data": {
      "text/plain": [
       "[1, 2, 3, 'Hello']"
      ]
     },
     "execution_count": 22,
     "metadata": {},
     "output_type": "execute_result"
    }
   ],
   "source": [
    "a=[1,2,3]\n",
    "a.append(\"Hello\")\n",
    "a"
   ]
  },
  {
   "cell_type": "code",
   "execution_count": 23,
   "metadata": {},
   "outputs": [
    {
     "data": {
      "text/plain": [
       "[1, 2, 3, 'Hello', [4, 5, 6]]"
      ]
     },
     "execution_count": 23,
     "metadata": {},
     "output_type": "execute_result"
    }
   ],
   "source": [
    "a.append([4,5,6])     # append는 그냥 덧붙이는 것,, 4번째 칸에 리스트가 들어감\n",
    "a"
   ]
  },
  {
   "cell_type": "code",
   "execution_count": 24,
   "metadata": {},
   "outputs": [
    {
     "data": {
      "text/plain": [
       "[1, 2, 3, 'Hello', [4, 5, 6], 7]"
      ]
     },
     "execution_count": 24,
     "metadata": {},
     "output_type": "execute_result"
    }
   ],
   "source": [
    "a.append(7)\n",
    "a"
   ]
  },
  {
   "cell_type": "markdown",
   "metadata": {},
   "source": [
    "### append 는 리스트 맨 마지막 칸을 생성 그 안에 데이터를 저장해요!"
   ]
  },
  {
   "cell_type": "code",
   "execution_count": 26,
   "metadata": {},
   "outputs": [
    {
     "data": {
      "text/plain": [
       "[1, 2, 3, 4, 5, 6]"
      ]
     },
     "execution_count": 26,
     "metadata": {},
     "output_type": "execute_result"
    }
   ],
   "source": [
    "a = [1,2,3]\n",
    "a.extend([4,5,6]) # Extend는 리스트를 확장\n",
    "a"
   ]
  },
  {
   "cell_type": "code",
   "execution_count": 30,
   "metadata": {},
   "outputs": [],
   "source": [
    "a = [7,3,9,4,6,1,8]"
   ]
  },
  {
   "cell_type": "code",
   "execution_count": 33,
   "metadata": {},
   "outputs": [
    {
     "name": "stdout",
     "output_type": "stream",
     "text": [
      "[1, 3, 4, 6, 7, 8, 9]\n",
      "[1, 3, 6, 7, 9, 55, 77]\n"
     ]
    }
   ],
   "source": [
    "# a 리스트를 정렬 하려면?\n",
    "a.sort() # 오름차순 정렬 # 원본이 변경\n",
    "print(a)\n",
    "b = [7,3,9,55,6,1,77]\n",
    "print(sorted(b))"
   ]
  },
  {
   "cell_type": "markdown",
   "metadata": {},
   "source": [
    "## sort는 list가 가지고 있는 함수 # 원본이 변함\n",
    "## sorted는 파이썬이 제공하는 함수 # 원본이 변하지 않음"
   ]
  },
  {
   "cell_type": "code",
   "execution_count": 36,
   "metadata": {},
   "outputs": [],
   "source": [
    "som = [\"Hello\",\"kaka\",\"World\",\"haha\"]   \n",
    "# som.sort() 실행\n",
    "# ['Hello', 'World', 'haha', 'kaka']     # 결과값\n",
    "# 기본; 오름차순 정렬\n",
    "# 아스키 코드 순 정렬"
   ]
  },
  {
   "cell_type": "code",
   "execution_count": 44,
   "metadata": {},
   "outputs": [
    {
     "data": {
      "text/plain": [
       "['김연아', '설현', '신사임당', '최길동', '홍길동']"
      ]
     },
     "execution_count": 44,
     "metadata": {},
     "output_type": "execute_result"
    }
   ],
   "source": [
    "a = [\"김연아\",\"홍길동\",\"설현\",\"신사임당\",\"최길동\"]\n",
    "a.sort()\n",
    "a"
   ]
  },
  {
   "cell_type": "code",
   "execution_count": 47,
   "metadata": {},
   "outputs": [
    {
     "data": {
      "text/plain": [
       "['홍길동', '최길동', '신사임당', '설현', '김연아']"
      ]
     },
     "execution_count": 47,
     "metadata": {},
     "output_type": "execute_result"
    }
   ],
   "source": [
    "# 내림차순 정렬은?\n",
    "a = [\"김연아\",\"홍길동\",\"설현\",\"신사임당\",\"최길동\"]\n",
    "a.reverse() # 역으로 나열하기\n",
    "# ['최길동', '신사임당', '설현', '홍길동', '김연아']\n",
    "a.sort(reverse=True) # 거꾸로 나열 \n",
    "a # 결과값: ['홍길동', '최길동', '신사임당', '설현', '김연아']"
   ]
  },
  {
   "cell_type": "code",
   "execution_count": null,
   "metadata": {},
   "outputs": [],
   "source": [
    "#전체 #주석? 어캐해,,눈물 ctrl+/"
   ]
  },
  {
   "cell_type": "code",
   "execution_count": 3,
   "metadata": {},
   "outputs": [
    {
     "name": "stdout",
     "output_type": "stream",
     "text": [
      "1\n"
     ]
    },
    {
     "data": {
      "text/plain": [
       "['Hello', 1, 2, 3, 4, 5]"
      ]
     },
     "execution_count": 3,
     "metadata": {},
     "output_type": "execute_result"
    }
   ],
   "source": [
    "a = [1,2,3,4,5]\n",
    "print(a.index(2)) #찾은 위치, 인덱스번호를 알려줌\n",
    "# print(a.index(6)) # 찾는 값이 없으면 error\n",
    "a.insert(0,\"Hello\") # 0번째 인덱스에 \"Hello\"삽입, 나머지는 뒤로 밀리게 됨\n",
    "# 특정 위치에 값을 삽입 가능\n",
    "a"
   ]
  },
  {
   "cell_type": "code",
   "execution_count": 5,
   "metadata": {},
   "outputs": [
    {
     "data": {
      "text/plain": [
       "[1, 2, 4, 5, 3]"
      ]
     },
     "execution_count": 5,
     "metadata": {},
     "output_type": "execute_result"
    }
   ],
   "source": [
    "a = [1,2,3,4,5,3]\n",
    "a.remove(3) # 첫번째로 발견한 것만 지움\n",
    "a"
   ]
  },
  {
   "cell_type": "code",
   "execution_count": 7,
   "metadata": {},
   "outputs": [
    {
     "name": "stdout",
     "output_type": "stream",
     "text": [
      "5\n",
      "[1, 2, 3, 4]\n"
     ]
    }
   ],
   "source": [
    "a = [1,2,3,4,5]\n",
    "print(a.pop()) # 값을 정하지 않으면 마지막값을 뜯어와버림, 리스트에서 없어짐\n",
    "print(a)"
   ]
  },
  {
   "cell_type": "code",
   "execution_count": 8,
   "metadata": {},
   "outputs": [
    {
     "name": "stdout",
     "output_type": "stream",
     "text": [
      "3\n"
     ]
    }
   ],
   "source": [
    "a = [1,2,3,4,5]\n",
    "print(a.pop(2)) # 해당 위치를 정해서 뜯어올 수 있음"
   ]
  },
  {
   "cell_type": "code",
   "execution_count": 10,
   "metadata": {},
   "outputs": [
    {
     "name": "stdout",
     "output_type": "stream",
     "text": [
      "3\n"
     ]
    }
   ],
   "source": [
    "a = [1,2,3,4,5,1,2,1,3,4]\n",
    "print(a.count(1)) # ()안에 있는 요소가 몇개 있는지 알아내서 알려줌 count"
   ]
  },
  {
   "cell_type": "code",
   "execution_count": 16,
   "metadata": {},
   "outputs": [
    {
     "name": "stdout",
     "output_type": "stream",
     "text": [
      "[1, 2, 3]\n",
      "True\n",
      "2579141770568\n",
      "False\n"
     ]
    }
   ],
   "source": [
    "a = [1,2,3]\n",
    "b = [1,2,3]\n",
    "b = a[:] # b = [1,2,3]\n",
    "print(b)\n",
    "print(a == b) # a,b의 내용이 같니?\n",
    "print(id(a)) # a라는 값이 가진 메모리주소를 출력하게 됨\n",
    "print(a is b) # a와 b가 동일한지,, 메모리 주소가 같은지!"
   ]
  },
  {
   "cell_type": "markdown",
   "metadata": {},
   "source": [
    "# Sequence Type: Tuple\n",
    "* List와 거의 동일 \n",
    "* List는 대괄호로 표현 [ ] \n",
    "* Tuple은 소괄호로 표현 () \n",
    "* 파이썬만 가지고 있는 자료형식 \n",
    "* a = () # 빈튜플 의미함 "
   ]
  },
  {
   "cell_type": "code",
   "execution_count": 20,
   "metadata": {},
   "outputs": [
    {
     "name": "stdout",
     "output_type": "stream",
     "text": [
      "<class 'tuple'>\n",
      "<class 'list'>\n",
      "<class 'int'>\n",
      "<class 'tuple'>\n"
     ]
    }
   ],
   "source": [
    "a = () # empty tuple\n",
    "print(type(a))\n",
    "myList = [1]\n",
    "print(type(myList))\n",
    "myTuple = (1) # 요소가 1개인 튜플은 리스트처럼 표현하면 안됨\n",
    "print(type(myTuple)) # integer로 인식해버림\n",
    "myTuple = (1,) # 튜플의 괄호임을 인식해주기 위해 ,를 찍어 표현\n",
    "print(type(myTuple))"
   ]
  },
  {
   "cell_type": "markdown",
   "metadata": {},
   "source": [
    "## list와 tuple의 차이점을 알아보자"
   ]
  },
  {
   "cell_type": "code",
   "execution_count": 24,
   "metadata": {},
   "outputs": [
    {
     "data": {
      "text/plain": [
       "(1, 2, 3, 4, 5)"
      ]
     },
     "execution_count": 24,
     "metadata": {},
     "output_type": "execute_result"
    }
   ],
   "source": [
    "myTuple = (1,2,3)         # 인덱싱 가능\n",
    "myList = [1,2,3]       # 인덱싱 가능\n",
    "myTuple[0:2] # 튜플을 슬라이싱 하니 슬라이싱이 나옴 \n",
    "# myTuple.[0] = 100 # 튜플은 값을 바꿀 수 없음!! 값을 얻어올 수는 있으나 변경 불가능\n",
    "# 리스트와 튜플의 가장큰 차이점 # Error # read Only\n",
    "\n",
    "myTuples = 1,2,3,4,5 # 괄호 생략가능\n",
    "myTuples\n",
    "# tuple은 함수를 거의 안씀, 변경불가능, readonly 특성 활용"
   ]
  },
  {
   "cell_type": "code",
   "execution_count": 27,
   "metadata": {},
   "outputs": [
    {
     "name": "stdout",
     "output_type": "stream",
     "text": [
      "10 20 30\n"
     ]
    }
   ],
   "source": [
    "a,b,c = 10,20,30\n",
    "(a,b,c) = (10,20,30)\n",
    "print(a,b,c)"
   ]
  },
  {
   "cell_type": "code",
   "execution_count": 29,
   "metadata": {},
   "outputs": [
    {
     "data": {
      "text/plain": [
       "[1, 2, 3]"
      ]
     },
     "execution_count": 29,
     "metadata": {},
     "output_type": "execute_result"
    }
   ],
   "source": [
    "a = [1,2,3] # List\n",
    "b = tuple(a) # Tuple로 변환\n",
    "b\n",
    "c = list(b) # 다시 리스트로 변환\n",
    "c"
   ]
  },
  {
   "cell_type": "markdown",
   "metadata": {},
   "source": [
    "# Sequence Type: Range"
   ]
  },
  {
   "cell_type": "code",
   "execution_count": 33,
   "metadata": {},
   "outputs": [
    {
     "name": "stdout",
     "output_type": "stream",
     "text": [
      "range(0, 10)\n",
      "range(1, 11, 2)\n"
     ]
    }
   ],
   "source": [
    "range1 = range(10) # 1~10까지 단조 출력, 순열\n",
    "print(range1) # 출력해도 그냥 범위로 나오게 됨 # 0~9까지, 10은 제외\n",
    "\n",
    "range2 = range(1,11,2) # 1~11까지, 2씩 증가. 11은 미포함. 마지막은 항상 미포함\n",
    "print(range2) # for문 돌릴 때 주로 사용하게 됨!\n",
    "# [1,3,5,7,9] 형태로 인식"
   ]
  },
  {
   "cell_type": "markdown",
   "metadata": {},
   "source": [
    "# Dict\n",
    "## sequence type: list, tuple, range \n",
    "### 각각의 생김새 특성 기억하기\n",
    "## mapping type: dict\n",
    "* key와 value의 쌍으로 표현되는 자료구조\n",
    "* JSON, 완전동일\n",
    "* {key:value}"
   ]
  },
  {
   "cell_type": "code",
   "execution_count": 36,
   "metadata": {},
   "outputs": [
    {
     "name": "stdout",
     "output_type": "stream",
     "text": [
      "<class 'dict'>\n"
     ]
    }
   ],
   "source": [
    "a = {\"이름\":\"홍길동\",\"나이\":30} # key값은 정해져있는 불변의 값 사용!\n",
    "print(type(a))"
   ]
  },
  {
   "cell_type": "code",
   "execution_count": 37,
   "metadata": {},
   "outputs": [],
   "source": [
    "# list는 key로 사용할 수 없음\n",
    "# tuple은 key로 사용할 수 있음\n",
    "a[10] = \"호호호\" # a[key] = \"value\" #순서 없음"
   ]
  },
  {
   "cell_type": "code",
   "execution_count": 38,
   "metadata": {},
   "outputs": [
    {
     "data": {
      "text/plain": [
       "{'이름': '홍길동', 'age': 30, 10: '호호호'}"
      ]
     },
     "execution_count": 38,
     "metadata": {},
     "output_type": "execute_result"
    }
   ],
   "source": [
    "a"
   ]
  },
  {
   "cell_type": "code",
   "execution_count": 39,
   "metadata": {},
   "outputs": [
    {
     "name": "stdout",
     "output_type": "stream",
     "text": [
      "30\n"
     ]
    }
   ],
   "source": [
    "print(a[\"age\"])"
   ]
  },
  {
   "cell_type": "code",
   "execution_count": 41,
   "metadata": {},
   "outputs": [
    {
     "data": {
      "text/plain": [
       "{'이름': '홍길동', 'age': 30, 10: '호호호', 'hoppy': 'Game'}"
      ]
     },
     "execution_count": 41,
     "metadata": {},
     "output_type": "execute_result"
    }
   ],
   "source": [
    "a[\"hoppy\"]=\"Game\"\n",
    "a \n",
    "# key값을 두개 동일한걸 쓰면 안됨"
   ]
  },
  {
   "cell_type": "code",
   "execution_count": 44,
   "metadata": {},
   "outputs": [
    {
     "data": {
      "text/plain": [
       "{'name': '홍길동', ('address',): '서울'}"
      ]
     },
     "execution_count": 44,
     "metadata": {},
     "output_type": "execute_result"
    }
   ],
   "source": [
    "# key값 튜플로 주기 //\n",
    "a = {\"name\":\"홍길동\",(\"address\",):\"서울\"}\n",
    "a"
   ]
  },
  {
   "cell_type": "code",
   "execution_count": 47,
   "metadata": {},
   "outputs": [
    {
     "name": "stdout",
     "output_type": "stream",
     "text": [
      "서울\n"
     ]
    }
   ],
   "source": [
    "# 서울을 뽑으려면?\n",
    "print(a['address',])"
   ]
  },
  {
   "cell_type": "markdown",
   "metadata": {},
   "source": [
    "### Dict 함수"
   ]
  },
  {
   "cell_type": "code",
   "execution_count": 57,
   "metadata": {},
   "outputs": [
    {
     "name": "stdout",
     "output_type": "stream",
     "text": [
      "dict_keys(['name', 'age', 'address'])\n",
      "['name', 'age', 'address']\n",
      "dict_values(['Kim', 20, 'Seoul'])\n",
      "['Kim', 20, 'Seoul']\n"
     ]
    }
   ],
   "source": [
    "a = {\"name\":\"Kim\",\"age\":20,\"address\":\"Seoul\"}\n",
    "# value를 뽑고싶어요! 기본적으로 key값을 알아야 함\n",
    "# key값만 알아내려면?\n",
    "a.keys() # 해당 딕셔너리의 키만 뽑음 \n",
    "# list 와 유사한 자료구조, dict_keys 자료구조로 리턴\n",
    "myKey = a.keys()\n",
    "print(myKey) #list는 아님\n",
    "myList = list(myKey) # list로 변환가능\n",
    "print(myList) # list로 뽑기!!ㅎㅎ\n",
    "# value만 가져오기\n",
    "myVal = a.values()\n",
    "print(myVal) # dict형식으로 가져옴\n",
    "myList2 = list(myVal)\n",
    "print(myList2) # list로 변환"
   ]
  },
  {
   "cell_type": "code",
   "execution_count": 63,
   "metadata": {},
   "outputs": [
    {
     "name": "stdout",
     "output_type": "stream",
     "text": [
      "dict_items([('name', 'Kim'), ('age', 20), ('address', 'Seoul')])\n",
      "Kim\n",
      "20\n",
      "Seoul\n"
     ]
    }
   ],
   "source": [
    "# 원하는 키밸류만 가져오려면?\n",
    "# 튜플로 가져올 수 있음\n",
    "myItem = a.items()\n",
    "print(myItem)\n",
    "# dict안에 있는 모든 키와 밸류를 출력하세요\n",
    "# for문 이용\n",
    "for k in a.keys(): # for 문이 끝나면 항상 :콜론\n",
    "    print(a[k]):"
   ]
  },
  {
   "cell_type": "code",
   "execution_count": 3,
   "metadata": {},
   "outputs": [
    {
     "name": "stdout",
     "output_type": "stream",
     "text": [
      "name - Kim\n",
      "age - 20\n",
      "address - Seoul\n",
      "집에갈래\n"
     ]
    }
   ],
   "source": [
    "a = {\"name\":\"Kim\",\"age\":20,\"address\":\"Seoul\"}\n",
    "for t in a.keys():\n",
    "    print(\"{} - {}\".format(t,a[t]))\n",
    "print(\"집에갈래\")"
   ]
  },
  {
   "cell_type": "code",
   "execution_count": 4,
   "metadata": {},
   "outputs": [
    {
     "name": "stdout",
     "output_type": "stream",
     "text": [
      "True\n"
     ]
    }
   ],
   "source": [
    "print(\"age\" in a, end=\"\\n\") # 특정 key값이 dict에 있는지 확인"
   ]
  },
  {
   "cell_type": "code",
   "execution_count": 8,
   "metadata": {},
   "outputs": [
    {
     "name": "stdout",
     "output_type": "stream",
     "text": [
      "hello world\n"
     ]
    }
   ],
   "source": [
    "print(\"hello\",\"world\",end=\"\\n\")"
   ]
  },
  {
   "cell_type": "markdown",
   "metadata": {},
   "source": [
    "## if문"
   ]
  },
  {
   "cell_type": "code",
   "execution_count": 16,
   "metadata": {},
   "outputs": [
    {
     "name": "stdout",
     "output_type": "stream",
     "text": [
      "서울이 있어요!\n"
     ]
    }
   ],
   "source": [
    "area = [\"Seoul\",\"Busan\",\"Jeju\"]\n",
    "if \"Suwon\" in area:\n",
    "    print(\"수원이 있어요!\")\n",
    "elif \"Seoul\" in area:\n",
    "    print(\"서울이 있어요!\")\n",
    "else:\n",
    "    print(\"아무것도 없어요\")"
   ]
  },
  {
   "cell_type": "code",
   "execution_count": 17,
   "metadata": {},
   "outputs": [
    {
     "name": "stdout",
     "output_type": "stream",
     "text": [
      "good\n"
     ]
    }
   ],
   "source": [
    "if \"ee\" in area:\n",
    "    pass # 하는일이 아무것도 없어요\n",
    "else:\n",
    "    print(\"good\")"
   ]
  },
  {
   "cell_type": "markdown",
   "metadata": {},
   "source": [
    "## for문"
   ]
  },
  {
   "cell_type": "code",
   "execution_count": 20,
   "metadata": {},
   "outputs": [
    {
     "name": "stdout",
     "output_type": "stream",
     "text": [
      "k값은: 0\n",
      "k값은: 1\n",
      "k값은: 2\n",
      "k값은: 3\n",
      "k값은: 4\n",
      "k값은: 5\n",
      "k값은: 6\n",
      "k값은: 7\n",
      "k값은: 8\n",
      "k값은: 9\n"
     ]
    }
   ],
   "source": [
    "for k in range(10):\n",
    "    print(\"k값은: {}\".format(k))"
   ]
  },
  {
   "cell_type": "markdown",
   "metadata": {},
   "source": [
    "## while문 조건이 만족할 때까지"
   ]
  },
  {
   "cell_type": "code",
   "execution_count": 21,
   "metadata": {},
   "outputs": [
    {
     "name": "stdout",
     "output_type": "stream",
     "text": [
      "test값은 1\n",
      "test값은 2\n",
      "test값은 3\n",
      "test값은 4\n",
      "test값은 5\n",
      "test값은 6\n",
      "test값은 7\n",
      "test값은 8\n",
      "test값은 9\n"
     ]
    }
   ],
   "source": [
    "test = 1\n",
    "while test < 10:\n",
    "    print(\"test값은 {}\".format(test))\n",
    "    test+= 1 # test = test + 1"
   ]
  },
  {
   "cell_type": "code",
   "execution_count": null,
   "metadata": {},
   "outputs": [],
   "source": []
  }
 ],
 "metadata": {
  "kernelspec": {
   "display_name": "[CPU_ENV]",
   "language": "python",
   "name": "cpu_env"
  },
  "language_info": {
   "codemirror_mode": {
    "name": "ipython",
    "version": 3
   },
   "file_extension": ".py",
   "mimetype": "text/x-python",
   "name": "python",
   "nbconvert_exporter": "python",
   "pygments_lexer": "ipython3",
   "version": "3.6.9"
  }
 },
 "nbformat": 4,
 "nbformat_minor": 2
}
